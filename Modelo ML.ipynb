{
 "cells": [
  {
   "cell_type": "code",
   "execution_count": 1,
   "id": "b64d1397",
   "metadata": {},
   "outputs": [],
   "source": [
    "import pandas as pd\n",
    "import sqlite3"
   ]
  },
  {
   "cell_type": "code",
   "execution_count": 2,
   "id": "1538c1dd",
   "metadata": {},
   "outputs": [],
   "source": [
    "# funcoes auxiliares\n",
    "format_means = lambda x: round(float(x),2)\n",
    "\n",
    "# abrindo conexao com bd\n",
    "conn = sqlite3.connect('matches.db')\n",
    "cursor = conn.cursor()"
   ]
  },
  {
   "cell_type": "code",
   "execution_count": 3,
   "id": "be505b4f",
   "metadata": {},
   "outputs": [
    {
     "data": {
      "text/html": [
       "<div>\n",
       "<style scoped>\n",
       "    .dataframe tbody tr th:only-of-type {\n",
       "        vertical-align: middle;\n",
       "    }\n",
       "\n",
       "    .dataframe tbody tr th {\n",
       "        vertical-align: top;\n",
       "    }\n",
       "\n",
       "    .dataframe thead th {\n",
       "        text-align: right;\n",
       "    }\n",
       "</style>\n",
       "<table border=\"1\" class=\"dataframe\">\n",
       "  <thead>\n",
       "    <tr style=\"text-align: right;\">\n",
       "      <th></th>\n",
       "      <th>avg_odds_h</th>\n",
       "      <th>avg_odds_d</th>\n",
       "      <th>avg_odds_a</th>\n",
       "      <th>id_match</th>\n",
       "    </tr>\n",
       "  </thead>\n",
       "  <tbody>\n",
       "    <tr>\n",
       "      <th>1</th>\n",
       "      <td>1.66</td>\n",
       "      <td>4.17</td>\n",
       "      <td>4.92</td>\n",
       "      <td>1</td>\n",
       "    </tr>\n",
       "    <tr>\n",
       "      <th>2</th>\n",
       "      <td>6.94</td>\n",
       "      <td>4.81</td>\n",
       "      <td>1.44</td>\n",
       "      <td>2</td>\n",
       "    </tr>\n",
       "    <tr>\n",
       "      <th>3</th>\n",
       "      <td>2.48</td>\n",
       "      <td>3.40</td>\n",
       "      <td>2.88</td>\n",
       "      <td>3</td>\n",
       "    </tr>\n",
       "    <tr>\n",
       "      <th>4</th>\n",
       "      <td>1.54</td>\n",
       "      <td>4.65</td>\n",
       "      <td>5.54</td>\n",
       "      <td>4</td>\n",
       "    </tr>\n",
       "    <tr>\n",
       "      <th>5</th>\n",
       "      <td>1.78</td>\n",
       "      <td>4.17</td>\n",
       "      <td>4.14</td>\n",
       "      <td>5</td>\n",
       "    </tr>\n",
       "  </tbody>\n",
       "</table>\n",
       "</div>"
      ],
      "text/plain": [
       "   avg_odds_h  avg_odds_d  avg_odds_a  id_match\n",
       "1        1.66        4.17        4.92         1\n",
       "2        6.94        4.81        1.44         2\n",
       "3        2.48        3.40        2.88         3\n",
       "4        1.54        4.65        5.54         4\n",
       "5        1.78        4.17        4.14         5"
      ]
     },
     "execution_count": 3,
     "metadata": {},
     "output_type": "execute_result"
    }
   ],
   "source": [
    "# criando o df a partir da tabela Odds_1x2\n",
    "query = 'select odd_home,odd_draw,odd_visiting,fk_id_match from Odds_1x2;'\n",
    "odds = pd.read_sql(query, conn)\n",
    "\n",
    "# realizando o calculo da media das odds\n",
    "odds_avg = odds.groupby(['fk_id_match']).mean()\n",
    "odds_avg['id_match'] = odds_avg.index\n",
    "\n",
    "# formatando o dataframe\n",
    "col_names = {'odd_home':'avg_odds_h',\n",
    "             'odd_draw': 'avg_odds_d',\n",
    "             'odd_visiting': 'avg_odds_a'}\n",
    "\n",
    "odds_avg = odds_avg.rename(columns=col_names)\n",
    "odds_avg['avg_odds_h'] = odds_avg['avg_odds_h'].apply(format_means)\n",
    "odds_avg['avg_odds_d'] = odds_avg['avg_odds_d'].apply(format_means)\n",
    "odds_avg['avg_odds_a'] = odds_avg['avg_odds_a'].apply(format_means)\n",
    "odds_avg = pd.DataFrame(data=odds_avg, index=[x for x in range(odds_avg.shape[0])])\n",
    "odds_avg = odds_avg.dropna()\n",
    "odds_avg['id_match'] = odds_avg['id_match'].astype(int) \n",
    "odds_avg.head()"
   ]
  },
  {
   "cell_type": "code",
   "execution_count": 4,
   "id": "28a1eeea",
   "metadata": {},
   "outputs": [
    {
     "data": {
      "text/html": [
       "<div>\n",
       "<style scoped>\n",
       "    .dataframe tbody tr th:only-of-type {\n",
       "        vertical-align: middle;\n",
       "    }\n",
       "\n",
       "    .dataframe tbody tr th {\n",
       "        vertical-align: top;\n",
       "    }\n",
       "\n",
       "    .dataframe thead th {\n",
       "        text-align: right;\n",
       "    }\n",
       "</style>\n",
       "<table border=\"1\" class=\"dataframe\">\n",
       "  <thead>\n",
       "    <tr style=\"text-align: right;\">\n",
       "      <th></th>\n",
       "      <th>id_match</th>\n",
       "      <th>result</th>\n",
       "    </tr>\n",
       "  </thead>\n",
       "  <tbody>\n",
       "    <tr>\n",
       "      <th>0</th>\n",
       "      <td>1</td>\n",
       "      <td>H</td>\n",
       "    </tr>\n",
       "    <tr>\n",
       "      <th>1</th>\n",
       "      <td>2</td>\n",
       "      <td>H</td>\n",
       "    </tr>\n",
       "    <tr>\n",
       "      <th>2</th>\n",
       "      <td>3</td>\n",
       "      <td>A</td>\n",
       "    </tr>\n",
       "    <tr>\n",
       "      <th>3</th>\n",
       "      <td>4</td>\n",
       "      <td>H</td>\n",
       "    </tr>\n",
       "    <tr>\n",
       "      <th>4</th>\n",
       "      <td>5</td>\n",
       "      <td>A</td>\n",
       "    </tr>\n",
       "  </tbody>\n",
       "</table>\n",
       "</div>"
      ],
      "text/plain": [
       "   id_match result\n",
       "0         1      H\n",
       "1         2      H\n",
       "2         3      A\n",
       "3         4      H\n",
       "4         5      A"
      ]
     },
     "execution_count": 4,
     "metadata": {},
     "output_type": "execute_result"
    }
   ],
   "source": [
    "# criando df a partir da tabela Matches\n",
    "query = '''select \n",
    "                id_match,\n",
    "                case\n",
    "                    when goal_home_team > goal_visiting_team then 'H'\n",
    "                    when goal_home_team < goal_visiting_team then 'A'\n",
    "                    else 'D'\n",
    "                end as 'result'\n",
    "            from Matches;'''\n",
    "results = pd.read_sql(query, conn)\n",
    "results.head()"
   ]
  },
  {
   "cell_type": "code",
   "execution_count": 5,
   "id": "2c8d8ca1",
   "metadata": {},
   "outputs": [
    {
     "data": {
      "text/html": [
       "<div>\n",
       "<style scoped>\n",
       "    .dataframe tbody tr th:only-of-type {\n",
       "        vertical-align: middle;\n",
       "    }\n",
       "\n",
       "    .dataframe tbody tr th {\n",
       "        vertical-align: top;\n",
       "    }\n",
       "\n",
       "    .dataframe thead th {\n",
       "        text-align: right;\n",
       "    }\n",
       "</style>\n",
       "<table border=\"1\" class=\"dataframe\">\n",
       "  <thead>\n",
       "    <tr style=\"text-align: right;\">\n",
       "      <th></th>\n",
       "      <th>avg_odds_h</th>\n",
       "      <th>avg_odds_d</th>\n",
       "      <th>avg_odds_a</th>\n",
       "      <th>result</th>\n",
       "    </tr>\n",
       "  </thead>\n",
       "  <tbody>\n",
       "    <tr>\n",
       "      <th>1</th>\n",
       "      <td>1.66</td>\n",
       "      <td>4.17</td>\n",
       "      <td>4.92</td>\n",
       "      <td>H</td>\n",
       "    </tr>\n",
       "    <tr>\n",
       "      <th>2</th>\n",
       "      <td>6.94</td>\n",
       "      <td>4.81</td>\n",
       "      <td>1.44</td>\n",
       "      <td>A</td>\n",
       "    </tr>\n",
       "    <tr>\n",
       "      <th>3</th>\n",
       "      <td>2.48</td>\n",
       "      <td>3.40</td>\n",
       "      <td>2.88</td>\n",
       "      <td>H</td>\n",
       "    </tr>\n",
       "    <tr>\n",
       "      <th>4</th>\n",
       "      <td>1.54</td>\n",
       "      <td>4.65</td>\n",
       "      <td>5.54</td>\n",
       "      <td>A</td>\n",
       "    </tr>\n",
       "    <tr>\n",
       "      <th>5</th>\n",
       "      <td>1.78</td>\n",
       "      <td>4.17</td>\n",
       "      <td>4.14</td>\n",
       "      <td>H</td>\n",
       "    </tr>\n",
       "  </tbody>\n",
       "</table>\n",
       "</div>"
      ],
      "text/plain": [
       "   avg_odds_h  avg_odds_d  avg_odds_a result\n",
       "1        1.66        4.17        4.92      H\n",
       "2        6.94        4.81        1.44      A\n",
       "3        2.48        3.40        2.88      H\n",
       "4        1.54        4.65        5.54      A\n",
       "5        1.78        4.17        4.14      H"
      ]
     },
     "execution_count": 5,
     "metadata": {},
     "output_type": "execute_result"
    }
   ],
   "source": [
    "# juntando os dois dataframes\n",
    "odds_avg = odds_avg.join(results, on=('id_match'), how='inner',lsuffix='_')\n",
    "\n",
    "# removendo colunas que nao sao mais necessarias\n",
    "odds_avg = odds_avg.drop('id_match_',axis=1)\n",
    "odds_avg = odds_avg.drop('id_match',axis=1)\n",
    "\n",
    "# fechando conexao com o bd\n",
    "cursor.close()\n",
    "conn.close()\n",
    "\n",
    "odds_avg.head()"
   ]
  },
  {
   "cell_type": "markdown",
   "id": "434786a2",
   "metadata": {},
   "source": [
    "### Naive Bayes"
   ]
  },
  {
   "cell_type": "code",
   "execution_count": 6,
   "id": "210be21c",
   "metadata": {},
   "outputs": [
    {
     "data": {
      "text/plain": [
       "0.4559386973180077"
      ]
     },
     "execution_count": 6,
     "metadata": {},
     "output_type": "execute_result"
    }
   ],
   "source": [
    "from sklearn.naive_bayes import GaussianNB\n",
    "from sklearn.model_selection import train_test_split\n",
    "\n",
    "# prepara o dataset\n",
    "y = odds_avg.result\n",
    "X = odds_avg.drop('result',axis=1)\n",
    "X_train, X_test, y_train, y_test = train_test_split(X, y, test_size=0.3,\n",
    "                                                    random_state=42)\n",
    "gnb = GaussianNB()\n",
    "gnb.fit(X_train, y_train)\n",
    "gnb.score(X_test, y_test)"
   ]
  },
  {
   "cell_type": "markdown",
   "id": "3252e32c",
   "metadata": {},
   "source": [
    "### Suport vector machine"
   ]
  },
  {
   "cell_type": "code",
   "execution_count": 7,
   "id": "b6450ce5",
   "metadata": {},
   "outputs": [
    {
     "data": {
      "text/plain": [
       "0.4612437371058061"
      ]
     },
     "execution_count": 7,
     "metadata": {},
     "output_type": "execute_result"
    }
   ],
   "source": [
    "from sklearn import svm\n",
    "\n",
    "clf = svm.SVC()\n",
    "clf.fit(X_train, y_train)\n",
    "clf.score(X_test, y_test)"
   ]
  }
 ],
 "metadata": {
  "kernelspec": {
   "display_name": "Python 3 (ipykernel)",
   "language": "python",
   "name": "python3"
  },
  "language_info": {
   "codemirror_mode": {
    "name": "ipython",
    "version": 3
   },
   "file_extension": ".py",
   "mimetype": "text/x-python",
   "name": "python",
   "nbconvert_exporter": "python",
   "pygments_lexer": "ipython3",
   "version": "3.9.7"
  }
 },
 "nbformat": 4,
 "nbformat_minor": 5
}
